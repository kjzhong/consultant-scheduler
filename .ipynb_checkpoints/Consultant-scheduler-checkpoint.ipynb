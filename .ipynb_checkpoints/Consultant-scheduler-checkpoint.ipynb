{
 "cells": [
  {
   "cell_type": "markdown",
   "metadata": {},
   "source": [
    "Given an excel file with all of the LC availabilities and consultant availabilities, the goal of this code is to find schedules that work.\n",
    "\n",
    "Note that ideally we'd like to optimise groups for variety, but I don't have access to that data"
   ]
  },
  {
   "cell_type": "code",
   "execution_count": 1,
   "metadata": {},
   "outputs": [],
   "source": [
    "import pandas as pd\n",
    "import numpy as np\n",
    "import itertools"
   ]
  },
  {
   "cell_type": "markdown",
   "metadata": {},
   "source": [
    "Importing files and saving as df"
   ]
  },
  {
   "cell_type": "code",
   "execution_count": 2,
   "metadata": {},
   "outputs": [],
   "source": [
    "lc_df = pd.read_excel(\"./data/lc.xls\", \n",
    "                   header = 1, \n",
    "                   index_col = 0, \n",
    "                   skiprows = 1,\n",
    "                   skipfooter = 1)\n",
    "lc_df = lc_df.replace([np.nan, '?'], 0)\n",
    "lc_df = lc_df.replace('OK', 1)\n",
    "\n",
    "lc_df = lc_df.astype(int)\n",
    "\n",
    "c_df = pd.read_excel(\"./data/c.xls\",\n",
    "                 header = 0,\n",
    "                 index_col = 0,\n",
    "                 skipfooter = 1)\n",
    "c_df = c_df.replace(\"OK\", 1)\n",
    "c_df = c_df.fillna(0)\n",
    "\n",
    "c_df = c_df.astype(int)\n",
    "\n",
    "c_avail = c_df.to_dict('index')\n",
    "for c in c_avail:\n",
    "    c_avail[c] = [j for j in c_avail[c].keys() if c_avail[c][j] != 0]"
   ]
  },
  {
   "cell_type": "markdown",
   "metadata": {},
   "source": [
    "#####  There are 48 consultants. For a MVP, I wll make 2 fake consultants."
   ]
  },
  {
   "cell_type": "code",
   "execution_count": 3,
   "metadata": {},
   "outputs": [],
   "source": [
    "c_avail[49] = list(c_df)\n",
    "c_avail[50] = list(c_df)"
   ]
  },
  {
   "cell_type": "code",
   "execution_count": 4,
   "metadata": {},
   "outputs": [],
   "source": [
    "# c_df[\"M13\"].value_counts()"
   ]
  },
  {
   "cell_type": "code",
   "execution_count": 5,
   "metadata": {},
   "outputs": [],
   "source": [
    "# lc_5_avail = lc_df.iloc[-1]\n",
    "# type(lc_5_avail)"
   ]
  },
  {
   "cell_type": "markdown",
   "metadata": {},
   "source": [
    "Save the LC dataframe as a dictionary (to start to greedyfill)"
   ]
  },
  {
   "cell_type": "code",
   "execution_count": 6,
   "metadata": {},
   "outputs": [],
   "source": [
    "lc_avail = lc_df.to_dict('index')\n",
    "\n",
    "for lc in lc_avail:\n",
    "    lc_avail[lc] = [j for j in lc_avail[lc].keys() if lc_avail[lc][j] != 0]\n",
    "#     x[i] = [j for j in x.keys() if x[i][j] != 0]\n",
    "\n",
    "\n",
    "# The LC list is bigger than the C list. Subset accordingly\n",
    "for lc in lc_avail:\n",
    "    lc_avail[lc] = [j for j in lc_avail[lc] if j in list(c_df)]"
   ]
  },
  {
   "cell_type": "markdown",
   "metadata": {},
   "source": [
    "Make a function to find the number of days a person is available AFTER the selected class (cause going to greedyfill in sorted order)"
   ]
  },
  {
   "cell_type": "code",
   "execution_count": 7,
   "metadata": {},
   "outputs": [],
   "source": [
    "def avail_after(person, daytime):\n",
    "    \"\"\"    \n",
    "    Finds the number of classes the person can make if they\n",
    "    aren't selected for this particular class\n",
    "    \n",
    "    person should be a list of days (['M13', 'T09', 'W13']) sorted\n",
    "    by day and time of the day.\n",
    "    \n",
    "    time should be a string that is one of the days.\n",
    "    \n",
    "    This function needs to order the days and times.\n",
    "    \"\"\"\n",
    "    \n",
    "    def timesplit(s):\n",
    "        '''Splits a time in format M13 to head and tail (M,13)'''\n",
    "        head = s.rstrip('0123456789')\n",
    "        tail = int(s[len(head):])\n",
    "        return head,tail\n",
    "    \n",
    "    day, time = timesplit(daytime)\n",
    "    \n",
    "    weekday_index = {'M' : 1,\n",
    "                    'T': 2,\n",
    "                    'W': 3,\n",
    "                    'TH' : 4,\n",
    "                    'F' : 5,\n",
    "                    'S' : 6}\n",
    "    not_same_day = len([i for i in person if weekday_index[timesplit(i)[0]] > weekday_index[day]])\n",
    "    same_day = len([i for i in person if weekday_index[timesplit(i)[0]] == weekday_index[day] and timesplit(i)[1] > time])\n",
    "    return same_day + not_same_day"
   ]
  },
  {
   "cell_type": "markdown",
   "metadata": {},
   "source": [
    "## First Implementation:\n",
    "* Fill by how many availabilities a student has after the day of the class, same logic for LC\n",
    "\n",
    "## Proposed Implementaion:\n",
    "* Fill by how many availabilities a student has of the REMAINING classes that have already been chosen. Same logic for LC. This is important as you already know the remaining classes."
   ]
  },
  {
   "cell_type": "markdown",
   "metadata": {},
   "source": [
    "Now we have to make a list of valid schedules"
   ]
  },
  {
   "cell_type": "code",
   "execution_count": 8,
   "metadata": {},
   "outputs": [],
   "source": [
    "max_schedule = [i for i in itertools.combinations(list(c_df), 5)]"
   ]
  },
  {
   "cell_type": "markdown",
   "metadata": {},
   "source": [
    "With a given schedule of classes, assign lead consultants to each one.\n",
    "\n",
    "For each class, find out how many more classes of the 5 chosen each LC can still go to, and select the one with the least. So this is ignoring this class, and the classes in assignments.\n",
    "\n",
    "This needs to only iterate through the lead consultants who have not been assigned already."
   ]
  },
  {
   "cell_type": "code",
   "execution_count": 9,
   "metadata": {},
   "outputs": [],
   "source": [
    "def validate(schedule):\n",
    "    \"\"\"Validates a set of five days.\n",
    "    If valid, returns the assignment as a dictionary\n",
    "    If invalid, returns 0\"\"\"\n",
    "    assignments = {}\n",
    "    for i in schedule:\n",
    "        d = {}\n",
    "        for lc in lc_avail:\n",
    "            if lc in assignments.values():\n",
    "                pass\n",
    "            else:\n",
    "                # values we have to ignore\n",
    "                ignore = set(i).union(set(assignments.keys()))\n",
    "                # intersect LC availabilities with schedule\n",
    "                happy = set(lc_avail[lc]).intersection(schedule)\n",
    "                d[lc] = happy - ignore\n",
    "        if d:\n",
    "            assignments[i] = min(d, key = d.get)\n",
    "        else:\n",
    "            return 0\n",
    "    return assignments"
   ]
  },
  {
   "cell_type": "code",
   "execution_count": 10,
   "metadata": {},
   "outputs": [],
   "source": [
    "# Snippet to validate all possible schedules. They ALL work wtf\n",
    "\n",
    "# for i in max_schedule:\n",
    "#     print(validate(i))"
   ]
  },
  {
   "cell_type": "markdown",
   "metadata": {},
   "source": [
    "Now to start greedyfilling consultants"
   ]
  },
  {
   "cell_type": "code",
   "execution_count": 11,
   "metadata": {},
   "outputs": [],
   "source": [
    "def fillclass(schedule):\n",
    "    # Going to need to flatten the classes (will be list of cons)\n",
    "    flatten = lambda l: [item for sublist in l for item in sublist]\n",
    "    assignments = {}\n",
    "    for i in schedule:\n",
    "        d = {}\n",
    "        for c in c_avail:\n",
    "            if c in flatten(assignments.values()):\n",
    "                pass\n",
    "            else:\n",
    "                # values we have to ignore\n",
    "                ignore = set(i).union(set(assignments.keys()))\n",
    "                # intersect C availabilities with schedule\n",
    "                happy = set(c_avail[c]).intersection(schedule)\n",
    "                d[c] = happy - ignore\n",
    "        if len(d) >= 10:\n",
    "            # first make a list of the 10 consultants we want to take\n",
    "            # this is done by finding the smallest and popping from d 10x\n",
    "            l = []\n",
    "            for j in range(10):\n",
    "                l.append(min(d, key = d.get))\n",
    "                del d[min(d, key = d.get)]\n",
    "            assignments[i] = l\n",
    "        else:\n",
    "            return 0\n",
    "    return assignments"
   ]
  },
  {
   "cell_type": "code",
   "execution_count": 12,
   "metadata": {},
   "outputs": [],
   "source": [
    "# All classes can be greedyfilled too wtf lol"
   ]
  },
  {
   "cell_type": "code",
   "execution_count": 13,
   "metadata": {},
   "outputs": [
    {
     "data": {
      "text/plain": [
       "{'M13': [10, 15, 20, 39, 1, 3, 17, 35, 41, 44],\n",
       " 'M15': [24, 37, 45, 2, 4, 12, 18, 19, 23, 43],\n",
       " 'M17': [6, 34, 38, 47, 5, 9, 11, 16, 21, 25],\n",
       " 'T9': [26, 27, 40, 8, 22, 28, 33, 36, 42, 46],\n",
       " 'T11': [7, 13, 14, 29, 30, 31, 32, 48, 49, 50]}"
      ]
     },
     "execution_count": 13,
     "metadata": {},
     "output_type": "execute_result"
    }
   ],
   "source": [
    "fillclass(max_schedule[0])"
   ]
  },
  {
   "cell_type": "code",
   "execution_count": 14,
   "metadata": {},
   "outputs": [
    {
     "data": {
      "text/plain": [
       "{'M13': 1, 'M15': 4, 'M17': 2, 'T9': 3, 'T11': 5}"
      ]
     },
     "execution_count": 14,
     "metadata": {},
     "output_type": "execute_result"
    }
   ],
   "source": [
    "validate(max_schedule[0])"
   ]
  }
 ],
 "metadata": {
  "kernelspec": {
   "display_name": "Python 3",
   "language": "python",
   "name": "python3"
  },
  "language_info": {
   "codemirror_mode": {
    "name": "ipython",
    "version": 3
   },
   "file_extension": ".py",
   "mimetype": "text/x-python",
   "name": "python",
   "nbconvert_exporter": "python",
   "pygments_lexer": "ipython3",
   "version": "3.8.3"
  }
 },
 "nbformat": 4,
 "nbformat_minor": 4
}
